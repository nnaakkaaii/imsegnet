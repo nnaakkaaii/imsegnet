{
 "cells": [
  {
   "cell_type": "code",
   "execution_count": 2,
   "metadata": {},
   "outputs": [],
   "source": [
    "from pytorch3d.utils import ico_sphere\n",
    "from pytorch3d.io import load_obj\n",
    "from pytorch3d.structures import Meshes\n",
    "from pytorch3d.ops import sample_points_from_meshes\n",
    "from pytorch3d.loss import chamfer_distance\n"
   ]
  },
  {
   "cell_type": "code",
   "execution_count": 3,
   "metadata": {},
   "outputs": [],
   "source": [
    "sphere_mesh = ico_sphere(level=3)"
   ]
  },
  {
   "cell_type": "code",
   "execution_count": 4,
   "metadata": {},
   "outputs": [
    {
     "ename": "FileNotFoundError",
     "evalue": "[Errno 2] No such file or directory: 'model.obj'",
     "output_type": "error",
     "traceback": [
      "\u001b[0;31m---------------------------------------------------------------------------\u001b[0m",
      "\u001b[0;31mFileNotFoundError\u001b[0m                         Traceback (most recent call last)",
      "\u001b[1;32mセル3 を /home/nakai-yu/dev/imsegnet/notebook/torch3d.ipynb\u001b[0m in \u001b[0;36m<cell line: 1>\u001b[0;34m()\u001b[0m\n\u001b[0;32m----> <a href='vscode-notebook-cell://ssh-remote%2Bubuntu/home/nakai-yu/dev/imsegnet/notebook/torch3d.ipynb#W3sdnNjb2RlLXJlbW90ZQ%3D%3D?line=0'>1</a>\u001b[0m verts, faces, _ \u001b[39m=\u001b[39m load_obj(\u001b[39m\"\u001b[39;49m\u001b[39mmodel.obj\u001b[39;49m\u001b[39m\"\u001b[39;49m)\n",
      "File \u001b[0;32m~/.pyenv/versions/anaconda3-5.3.1/envs/pytorch3d/lib/python3.9/site-packages/pytorch3d/io/obj_io.py:221\u001b[0m, in \u001b[0;36mload_obj\u001b[0;34m(f, load_textures, create_texture_atlas, texture_atlas_size, texture_wrap, device, path_manager)\u001b[0m\n\u001b[1;32m    219\u001b[0m \u001b[39mif\u001b[39;00m path_manager \u001b[39mis\u001b[39;00m \u001b[39mNone\u001b[39;00m:\n\u001b[1;32m    220\u001b[0m     path_manager \u001b[39m=\u001b[39m PathManager()\n\u001b[0;32m--> 221\u001b[0m \u001b[39mwith\u001b[39;00m _open_file(f, path_manager, \u001b[39m\"\u001b[39;49m\u001b[39mr\u001b[39;49m\u001b[39m\"\u001b[39;49m) \u001b[39mas\u001b[39;00m f:\n\u001b[1;32m    222\u001b[0m     \u001b[39mreturn\u001b[39;00m _load_obj(\n\u001b[1;32m    223\u001b[0m         f,\n\u001b[1;32m    224\u001b[0m         data_dir\u001b[39m=\u001b[39mdata_dir,\n\u001b[0;32m   (...)\u001b[0m\n\u001b[1;32m    230\u001b[0m         device\u001b[39m=\u001b[39mdevice,\n\u001b[1;32m    231\u001b[0m     )\n",
      "File \u001b[0;32m~/.pyenv/versions/anaconda3-5.3.1/envs/pytorch3d/lib/python3.9/site-packages/pytorch3d/io/utils.py:33\u001b[0m, in \u001b[0;36m_open_file\u001b[0;34m(f, path_manager, mode)\u001b[0m\n\u001b[1;32m     31\u001b[0m \u001b[39mdef\u001b[39;00m \u001b[39m_open_file\u001b[39m(f, path_manager: PathManager, mode: \u001b[39mstr\u001b[39m \u001b[39m=\u001b[39m \u001b[39m\"\u001b[39m\u001b[39mr\u001b[39m\u001b[39m\"\u001b[39m) \u001b[39m-\u001b[39m\u001b[39m>\u001b[39m ContextManager[IO]:\n\u001b[1;32m     32\u001b[0m     \u001b[39mif\u001b[39;00m \u001b[39misinstance\u001b[39m(f, \u001b[39mstr\u001b[39m):\n\u001b[0;32m---> 33\u001b[0m         f \u001b[39m=\u001b[39m path_manager\u001b[39m.\u001b[39;49mopen(f, mode)\n\u001b[1;32m     34\u001b[0m         \u001b[39mreturn\u001b[39;00m contextlib\u001b[39m.\u001b[39mclosing(f)\n\u001b[1;32m     35\u001b[0m     \u001b[39melif\u001b[39;00m \u001b[39misinstance\u001b[39m(f, pathlib\u001b[39m.\u001b[39mPath):\n",
      "File \u001b[0;32m~/.pyenv/versions/anaconda3-5.3.1/envs/pytorch3d/lib/python3.9/site-packages/iopath/common/file_io.py:1012\u001b[0m, in \u001b[0;36mPathManager.open\u001b[0;34m(self, path, mode, buffering, **kwargs)\u001b[0m\n\u001b[1;32m    995\u001b[0m \u001b[39m\"\"\"\u001b[39;00m\n\u001b[1;32m    996\u001b[0m \u001b[39mOpen a stream to a URI, similar to the built-in `open`.\u001b[39;00m\n\u001b[1;32m    997\u001b[0m \n\u001b[0;32m   (...)\u001b[0m\n\u001b[1;32m   1009\u001b[0m \u001b[39m    file: a file-like object.\u001b[39;00m\n\u001b[1;32m   1010\u001b[0m \u001b[39m\"\"\"\u001b[39;00m\n\u001b[1;32m   1011\u001b[0m handler \u001b[39m=\u001b[39m \u001b[39mself\u001b[39m\u001b[39m.\u001b[39m__get_path_handler(path)\n\u001b[0;32m-> 1012\u001b[0m bret \u001b[39m=\u001b[39m handler\u001b[39m.\u001b[39;49m_open(path, mode, buffering\u001b[39m=\u001b[39;49mbuffering, \u001b[39m*\u001b[39;49m\u001b[39m*\u001b[39;49mkwargs)  \u001b[39m# type: ignore\u001b[39;00m\n\u001b[1;32m   1014\u001b[0m kvs \u001b[39m=\u001b[39m \u001b[39mself\u001b[39m\u001b[39m.\u001b[39m__get_open_keys(path, mode, buffering)\n\u001b[1;32m   1015\u001b[0m \u001b[39mself\u001b[39m\u001b[39m.\u001b[39m__log_tmetry_keys(handler, kvs)\n",
      "File \u001b[0;32m~/.pyenv/versions/anaconda3-5.3.1/envs/pytorch3d/lib/python3.9/site-packages/iopath/common/file_io.py:604\u001b[0m, in \u001b[0;36mNativePathHandler._open\u001b[0;34m(self, path, mode, buffering, encoding, errors, newline, closefd, opener, **kwargs)\u001b[0m\n\u001b[1;32m    564\u001b[0m \u001b[39m\"\"\"\u001b[39;00m\n\u001b[1;32m    565\u001b[0m \u001b[39mOpen a path.\u001b[39;00m\n\u001b[1;32m    566\u001b[0m \n\u001b[0;32m   (...)\u001b[0m\n\u001b[1;32m    601\u001b[0m \u001b[39m    file: a file-like object.\u001b[39;00m\n\u001b[1;32m    602\u001b[0m \u001b[39m\"\"\"\u001b[39;00m\n\u001b[1;32m    603\u001b[0m \u001b[39mself\u001b[39m\u001b[39m.\u001b[39m_check_kwargs(kwargs)\n\u001b[0;32m--> 604\u001b[0m \u001b[39mreturn\u001b[39;00m \u001b[39mopen\u001b[39;49m(  \u001b[39m# type: ignore\u001b[39;49;00m\n\u001b[1;32m    605\u001b[0m     \u001b[39mself\u001b[39;49m\u001b[39m.\u001b[39;49m_get_path_with_cwd(path),\n\u001b[1;32m    606\u001b[0m     mode,\n\u001b[1;32m    607\u001b[0m     buffering\u001b[39m=\u001b[39;49mbuffering,\n\u001b[1;32m    608\u001b[0m     encoding\u001b[39m=\u001b[39;49mencoding,\n\u001b[1;32m    609\u001b[0m     errors\u001b[39m=\u001b[39;49merrors,\n\u001b[1;32m    610\u001b[0m     newline\u001b[39m=\u001b[39;49mnewline,\n\u001b[1;32m    611\u001b[0m     closefd\u001b[39m=\u001b[39;49mclosefd,\n\u001b[1;32m    612\u001b[0m     opener\u001b[39m=\u001b[39;49mopener,\n\u001b[1;32m    613\u001b[0m )\n",
      "\u001b[0;31mFileNotFoundError\u001b[0m: [Errno 2] No such file or directory: 'model.obj'"
     ]
    }
   ],
   "source": [
    "verts, faces, _ = load_obj(\"model.obj\")"
   ]
  },
  {
   "cell_type": "code",
   "execution_count": null,
   "metadata": {},
   "outputs": [],
   "source": []
  }
 ],
 "metadata": {
  "kernelspec": {
   "display_name": "Python 3.9.13 64-bit ('pytorch3d')",
   "language": "python",
   "name": "python3"
  },
  "language_info": {
   "codemirror_mode": {
    "name": "ipython",
    "version": 3
   },
   "file_extension": ".py",
   "mimetype": "text/x-python",
   "name": "python",
   "nbconvert_exporter": "python",
   "pygments_lexer": "ipython3",
   "version": "3.9.13"
  },
  "orig_nbformat": 4,
  "vscode": {
   "interpreter": {
    "hash": "aad8ef768395cdf582348594c065a156d308c6cc2f11948cab0bc90c1d228598"
   }
  }
 },
 "nbformat": 4,
 "nbformat_minor": 2
}
